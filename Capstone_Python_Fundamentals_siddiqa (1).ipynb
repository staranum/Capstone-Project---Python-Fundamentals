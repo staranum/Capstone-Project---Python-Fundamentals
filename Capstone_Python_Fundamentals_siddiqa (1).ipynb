{
 "cells": [
  {
   "cell_type": "markdown",
   "id": "5175b86a",
   "metadata": {},
   "source": [
    "# Capstone Project - Python Fundamentals\n"
   ]
  },
  {
   "cell_type": "code",
   "execution_count": null,
   "id": "1133f103-a049-46d0-b958-ac590b82b251",
   "metadata": {},
   "outputs": [],
   "source": [
    "# project By Siddiqa Taranum "
   ]
  },
  {
   "cell_type": "code",
   "execution_count": 38,
   "id": "647bff98",
   "metadata": {},
   "outputs": [],
   "source": [
    "import pandas as pd\n",
    "# Task 1: Creating DataFrames and Saving to CSV\n",
    "# Creating project dataframe\n",
    "project_df = pd.DataFrame({\n",
    "    'ID': ['A001', 'A002', 'A003', 'A004', 'A005', 'A002', 'A005', 'A003', 'A003', 'A001', 'A001', 'A004', 'A004', 'A005'],\n",
    "    'Project': ['Project 1', 'Project 2', 'Project 3', 'Project 4', 'Project 5', 'Project 6', 'Project 7', 'Project 8',\n",
    "                'Project 9', 'Project 10', 'Project 11', 'Project 12', 'Project 13', 'Project 14'],\n",
    "    'Cost': [1002000, 2000000, 4500000, 5500000, 1000000, 680000, 400000, 350000, 0, 300000, 2000000, 1000000, 0, 200000],\n",
    "    'Status': ['Finished', 'Ongoing', 'Finished', 'Ongoing', 'Finished', 'Failed', 'Finished', 'Failed',\n",
    "               'Ongoing', 'Finished', 'Failed', 'Ongoing', 'Finished', 'Finished']\n",
    "})\n",
    "# Saving project dataframe to csv\n",
    "project_df.to_csv(\"project_df.csv\", index=False)\n",
    "# Creating employee dataframe\n",
    "employee_df = pd.DataFrame({\n",
    "    'ID': ['A001', 'A002', 'A003', 'A004', 'A005'],\n",
    "    'Name': ['John Alter', 'Alice Luxumberg', 'Tom Sabestine', 'Nina Adgra', 'Amy Johny'],\n",
    "    'Gender': ['M', 'F', 'M', 'F', 'F'],\n",
    "    'City': ['Paris', 'London', 'Berlin', 'Newyork', 'Madrid'],\n",
    "    'Age': [25, 27, 29, 31, 30]\n",
    "})\n",
    "# Saving employee dataframe to csv\n",
    "employee_df.to_csv(\"employee_df.csv\", index=False)\n",
    "# Creating seniority dataframe\n",
    "seniority_df = pd.DataFrame({\n",
    "    'ID': ['A001', 'A002', 'A003', 'A004', 'A005'],\n",
    "    'Designation Level': [2, 2, 3, 2, 3]\n",
    "})\n",
    "#Saving seniority dataframe to csv\n",
    "seniority_df.to_csv(\"seniority_df.csv\", index=False)"
   ]
  },
  {
   "cell_type": "code",
   "execution_count": 39,
   "id": "eb6748ce",
   "metadata": {},
   "outputs": [],
   "source": [
    "# Task 2: Replace missing (0) cost values with running average\n",
    "# Load the project CSV \n",
    "project_df = pd.read_csv(\"project_df.csv\")\n",
    "#Replace missing cost values with running average of previous non-null values\n",
    "for i in range(len(project_df)):\n",
    "    if project_df.loc[i, 'Cost'] == 0:\n",
    "        if i == 0:\n",
    "            project_df.loc[i, 'Cost'] = project_df['Cost'].mean()\n",
    "        else:\n",
    "            project_df.loc[i, 'Cost'] = project_df.loc[:i-1, 'Cost'].mean()\n",
    "#Save the updated project file\n",
    "project_df.to_csv(\"project_df.csv\", index=False)"
   ]
  },
  {
   "cell_type": "code",
   "execution_count": 40,
   "id": "e0411e78",
   "metadata": {
    "scrolled": true
   },
   "outputs": [],
   "source": [
    "# Task 3: Split Name into First and Last Name\n",
    "# Load employee dataframe\n",
    "employee_df = pd.read_csv(\"employee_df.csv\")\n",
    "# Split name column into First Name and Last Name\n",
    "employee_df[['First Name', 'Last Name']] = employee_df['Name'].str.split(' ', expand=True)\n",
    "# Drop the original 'name' column\n",
    "employee_df.drop('Name', axis=1, inplace=True)\n",
    "# Save the updated employee file\n",
    "employee_df.to_csv(\"employee_df.csv\", index=False)"
   ]
  },
  {
   "cell_type": "code",
   "execution_count": 41,
   "id": "1a26d63a",
   "metadata": {},
   "outputs": [],
   "source": [
    "# Task 4: Join all DataFrames into 'final'\n",
    "# All 3 CSV files are already loaded\n",
    "# Merging project and employee dataframe on 'ID'\n",
    "final_df = pd.merge(project_df, employee_df, on='ID')\n",
    "# Merge the result with seniority dataframe on 'ID'\n",
    "final_df = pd.merge(final_df, pd.read_csv(\"seniority_df.csv\"), on='ID')\n",
    "# Save final merged dataframe\n",
    "final_df.to_csv(\"final_df.csv\", index=False)"
   ]
  },
  {
   "cell_type": "code",
   "execution_count": 42,
   "id": "c7d8fc70",
   "metadata": {},
   "outputs": [],
   "source": [
    "# Task 5: Add 5% Bonus for Finished projects\n",
    "# Create bonus column: 5% of cost for 'Finished projects', else 0\n",
    "final_df['Bonus'] = final_df.apply(lambda row: row['Cost'] * 0.05 if row['Status'] == 'Finished' else 0, axis=1)\n",
    "# Save updated dataframe\n",
    "final_df.to_csv(\"final_df.csv\", index=False)"
   ]
  },
  {
   "cell_type": "code",
   "execution_count": 43,
   "id": "00a3408d",
   "metadata": {},
   "outputs": [],
   "source": [
    "# Task 6: Demote designation level by 1 if the project failed, but keep minimum as 1\n",
    "final_df['Designation Level'] = final_df.apply(\n",
    "    lambda row: max(1, row['Designation Level'] - 1) if row['Status'].lower() == 'failed' else row['Designation Level'],\n",
    "    axis=1\n",
    ")\n",
    "# Remove rows where Designation Level > 4\n",
    "final_df = final_df[final_df['Designation Level'] <= 4]\n",
    "# Save the cleaned data\n",
    "final_df.to_csv('final_df.csv', index=False)"
   ]
  },
  {
   "cell_type": "code",
   "execution_count": 44,
   "id": "2a3da890",
   "metadata": {},
   "outputs": [],
   "source": [
    "# Task 7 : Add prefix to First Name based on Gender\n",
    "final_df['First Name'] = final_df.apply(\n",
    "    lambda row: 'Mr. ' + row['First Name'] if row['Gender'] == 'M' else 'Mrs. ' + row['First Name'],\n",
    "    axis=1\n",
    ")\n",
    "# Drop the 'Gender' column\n",
    "final_df.drop('Gender', axis=1, inplace=True)\n",
    "\n",
    "# Save the updated dataframe\n",
    "final_df.to_csv('final_df.csv', index=False)"
   ]
  },
  {
   "cell_type": "code",
   "execution_count": 48,
   "id": "e82095e5",
   "metadata": {},
   "outputs": [],
   "source": [
    "# Task 8: Promote by 1 level if Age > 29\n",
    "final_df = pd.read_csv(\"final_df.csv\")\n",
    "ages = final_df.set_index('ID')['Age'].to_dict()\n",
    "for i in final_df.index:\n",
    "    if ages[final_df.loc[i, 'ID']] > 29:\n",
    "        final_df.loc[i, 'Designation Level'] += 1\n",
    "final_df.to_csv(\"final_df.csv\", index=False)"
   ]
  },
  {
   "cell_type": "code",
   "execution_count": 57,
   "id": "01b01b1d",
   "metadata": {},
   "outputs": [],
   "source": [
    "# Task 9: Total Project Cost per Employee\n",
    "total_cost = project_df.groupby('ID')['Cost'].sum().reset_index()\n",
    "employee_df = pd.read_csv(\"employee_df.csv\")\n",
    "result = pd.merge(total_cost, employee_df[['First Name','ID']], on='ID')\n",
    "result.rename(columns={'Cost': 'Total Cost'}, inplace=True)\n",
    "result.to_csv(\"TotalProjCost.csv\", index=False)"
   ]
  },
  {
   "cell_type": "code",
   "execution_count": 50,
   "id": "f675387e",
   "metadata": {},
   "outputs": [
    {
     "name": "stdout",
     "output_type": "stream",
     "text": [
      "     ID Gender     City  Age First Name  Last Name\n",
      "1  A002      F   London   27      Alice  Luxumberg\n",
      "3  A004      F  Newyork   31       Nina      Adgra\n"
     ]
    }
   ],
   "source": [
    "# Task 10: Employees whose city contains 'o'\n",
    "employee_df = pd.read_csv(\"employee_df.csv\")\n",
    "print(employee_df[employee_df['City'].str.contains('o', case=False)])"
   ]
  },
  {
   "cell_type": "code",
   "execution_count": null,
   "id": "24dea76b-4723-4685-af00-5bf4178571d6",
   "metadata": {},
   "outputs": [],
   "source": [
    "# Thankyou Skillovilla. I hope you like my project."
   ]
  }
 ],
 "metadata": {
  "kernelspec": {
   "display_name": "Python [conda env:base] *",
   "language": "python",
   "name": "conda-base-py"
  },
  "language_info": {
   "codemirror_mode": {
    "name": "ipython",
    "version": 3
   },
   "file_extension": ".py",
   "mimetype": "text/x-python",
   "name": "python",
   "nbconvert_exporter": "python",
   "pygments_lexer": "ipython3",
   "version": "3.12.7"
  }
 },
 "nbformat": 4,
 "nbformat_minor": 5
}
